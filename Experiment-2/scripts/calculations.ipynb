{
 "cells": [
  {
   "cell_type": "code",
   "execution_count": null,
   "metadata": {},
   "outputs": [],
   "source": [
    "import pandas as pd\n",
    "import numpy as np\n",
    "import matplotlib.pyplot as plt\n",
    "from os import listdir"
   ]
  },
  {
   "cell_type": "code",
   "execution_count": 49,
   "metadata": {},
   "outputs": [],
   "source": [
    "# Data Array: (Distances, AWG Driving Voltage, Rx Voltage) Data Points\n",
    "    # Array Position -> Data Point:\n",
    "        # Distances              0 -> 5 mm,          1 -> 10 mm,         , ...\n",
    "        # AWG Driving Voltages   0 -> 300 mV,        1 -> 400 mV,        , ...\n",
    "        # Rx Voltage             0 -> V_Rx @ t=-100, 1 -> V_Rx @ t=-100+δ, ...\n",
    "\n",
    "data = np.empty((3, 17, 5004)) \n",
    "\n",
    "distances = sorted(listdir(\"../measurements/csv\"))\n",
    "i = 0\n",
    "for distance in distances:\n",
    "    awg_voltages = sorted(listdir(\"../measurements/csv/\" + distance))\n",
    "    j = 0\n",
    "    for awg_voltage in awg_voltages:\n",
    "        measurements = sorted(listdir(\"../measurements/csv/\" + distance + \"/\" + awg_voltage))\n",
    "        k = 0\n",
    "        for measurement in measurements:\n",
    "            csv_data = pd.read_csv(\"../measurements/csv/\" + distance + \"/\" + awg_voltage + \"/\" + measurement, names=[\"Time\", \"Rx Voltage (mV)\"])[2:].drop([\"Time\"], axis=1).reset_index(drop=True).astype(\"float64\").to_numpy().flatten()\n",
    "            data[i][j][5004*k:5003*(k+1)-1]\n",
    "            k += 1\n",
    "        j += 1\n",
    "    i += 1"
   ]
  },
  {
   "cell_type": "code",
   "execution_count": 48,
   "metadata": {},
   "outputs": [
    {
     "data": {
      "text/plain": [
       "52.17749"
      ]
     },
     "execution_count": 48,
     "metadata": {},
     "output_type": "execute_result"
    }
   ],
   "source": []
  },
  {
   "cell_type": "code",
   "execution_count": null,
   "metadata": {},
   "outputs": [],
   "source": []
  }
 ],
 "metadata": {
  "kernelspec": {
   "display_name": "Python 3",
   "language": "python",
   "name": "python3"
  },
  "language_info": {
   "codemirror_mode": {
    "name": "ipython",
    "version": 3
   },
   "file_extension": ".py",
   "mimetype": "text/x-python",
   "name": "python",
   "nbconvert_exporter": "python",
   "pygments_lexer": "ipython3",
   "version": "3.6.9"
  }
 },
 "nbformat": 4,
 "nbformat_minor": 4
}
