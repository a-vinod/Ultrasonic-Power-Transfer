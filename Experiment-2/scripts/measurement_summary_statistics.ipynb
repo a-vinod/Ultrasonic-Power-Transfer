{
 "cells": [
  {
   "cell_type": "code",
   "execution_count": null,
   "metadata": {},
   "outputs": [],
   "source": [
    "import pandas as pd\n",
    "import numpy as np\n",
    "import matplotlib.pyplot as plt\n",
    "from os import listdir"
   ]
  },
  {
   "cell_type": "code",
   "execution_count": 4,
   "metadata": {},
   "outputs": [],
   "source": [
    "df_arr = {}\n",
    "\n",
    "for folder in listdir(\"../measurements/csv\"):\n",
    "    df = pd.DataFrame(columns = [\"Time (μs)\", \"Rx Voltage (mV)\"])\n",
    "    for file in sorted(listdir(\"../measurements/csv/\" + folder)):\n",
    "        df = df.append(pd.read_csv(\"../measurements/csv/\" + folder + \"/\" + file, names=[\"Time (μs)\", \"Rx Voltage (mV)\"])[2:], ignore_index=True)\n",
    "    df = df.astype(\"float64\")\n",
    "    if float(folder) > 1000:\n",
    "        df[\"Rx Voltage (mV)\"] = df[\"Rx Voltage (mV)\"].mul(1000)\n",
    "    df_arr.update({folder:df})"
   ]
  },
  {
   "cell_type": "code",
   "execution_count": 5,
   "metadata": {},
   "outputs": [],
   "source": [
    "summary = pd.DataFrame(columns = [\"AWG Driving Voltage (mV)\", \"Maximum Rx Voltage (mV)\", \"Minimum Rx Voltage (mV)\"])\n",
    "for signal, df in df_arr.items():\n",
    "    summary.loc[len(summary.index)] = [int(signal), df[\"Rx Voltage (mV)\"].max(), df[\"Rx Voltage (mV)\"].min()]\n",
    "summary = summary.sort_values(by='Maximum Rx Voltage (mV)')"
   ]
  },
  {
   "cell_type": "code",
   "execution_count": 6,
   "metadata": {},
   "outputs": [
    {
     "data": {
      "text/html": [
       "<div>\n",
       "<style scoped>\n",
       "    .dataframe tbody tr th:only-of-type {\n",
       "        vertical-align: middle;\n",
       "    }\n",
       "\n",
       "    .dataframe tbody tr th {\n",
       "        vertical-align: top;\n",
       "    }\n",
       "\n",
       "    .dataframe thead th {\n",
       "        text-align: right;\n",
       "    }\n",
       "</style>\n",
       "<table border=\"1\" class=\"dataframe\">\n",
       "  <thead>\n",
       "    <tr style=\"text-align: right;\">\n",
       "      <th></th>\n",
       "      <th>AWG Driving Voltage (mV)</th>\n",
       "      <th>Maximum Rx Voltage (mV)</th>\n",
       "      <th>Minimum Rx Voltage (mV)</th>\n",
       "    </tr>\n",
       "  </thead>\n",
       "  <tbody>\n",
       "    <tr>\n",
       "      <th>2</th>\n",
       "      <td>500.0</td>\n",
       "      <td>151.8052</td>\n",
       "      <td>-153.4226</td>\n",
       "    </tr>\n",
       "    <tr>\n",
       "      <th>0</th>\n",
       "      <td>600.0</td>\n",
       "      <td>180.0348</td>\n",
       "      <td>-181.6523</td>\n",
       "    </tr>\n",
       "    <tr>\n",
       "      <th>4</th>\n",
       "      <td>700.0</td>\n",
       "      <td>212.6987</td>\n",
       "      <td>-215.1860</td>\n",
       "    </tr>\n",
       "    <tr>\n",
       "      <th>5</th>\n",
       "      <td>800.0</td>\n",
       "      <td>239.1583</td>\n",
       "      <td>-241.6608</td>\n",
       "    </tr>\n",
       "    <tr>\n",
       "      <th>1</th>\n",
       "      <td>900.0</td>\n",
       "      <td>270.0430</td>\n",
       "      <td>-276.9555</td>\n",
       "    </tr>\n",
       "    <tr>\n",
       "      <th>3</th>\n",
       "      <td>1000.0</td>\n",
       "      <td>300.9277</td>\n",
       "      <td>-303.4150</td>\n",
       "    </tr>\n",
       "    <tr>\n",
       "      <th>6</th>\n",
       "      <td>2000.0</td>\n",
       "      <td>594.5005</td>\n",
       "      <td>-595.6298</td>\n",
       "    </tr>\n",
       "  </tbody>\n",
       "</table>\n",
       "</div>"
      ],
      "text/plain": [
       "   AWG Driving Voltage (mV)  Maximum Rx Voltage (mV)  Minimum Rx Voltage (mV)\n",
       "2                     500.0                 151.8052                -153.4226\n",
       "0                     600.0                 180.0348                -181.6523\n",
       "4                     700.0                 212.6987                -215.1860\n",
       "5                     800.0                 239.1583                -241.6608\n",
       "1                     900.0                 270.0430                -276.9555\n",
       "3                    1000.0                 300.9277                -303.4150\n",
       "6                    2000.0                 594.5005                -595.6298"
      ]
     },
     "execution_count": 6,
     "metadata": {},
     "output_type": "execute_result"
    }
   ],
   "source": [
    "summary"
   ]
  },
  {
   "cell_type": "code",
   "execution_count": 7,
   "metadata": {},
   "outputs": [
    {
     "data": {
      "text/plain": [
       "<AxesSubplot:title={'center':'AWG Driving Voltage vs. Rx Max Voltage'}, xlabel='AWG Driving Voltage (mV)', ylabel='Maximum Rx Voltage (mV)'>"
      ]
     },
     "execution_count": 7,
     "metadata": {},
     "output_type": "execute_result"
    },
    {
     "data": {
      "image/png": "[encoded data removed]",
      "text/plain": [
       "<Figure size 432x288 with 1 Axes>"
      ]
     },
     "metadata": {
      "needs_background": "light"
     },
     "output_type": "display_data"
    }
   ],
   "source": [
    "summary.plot.scatter(x=\"AWG Driving Voltage (mV)\", y=\"Maximum Rx Voltage (mV)\", title=\"AWG Driving Voltage vs. Rx Max Voltage\")"
   ]
  }
 ],
 "metadata": {
  "kernelspec": {
   "display_name": "Python 3",
   "language": "python",
   "name": "python3"
  },
  "language_info": {
   "codemirror_mode": {
    "name": "ipython",
    "version": 3
   },
   "file_extension": ".py",
   "mimetype": "text/x-python",
   "name": "python",
   "nbconvert_exporter": "python",
   "pygments_lexer": "ipython3",
   "version": "3.6.9"
  }
 },
 "nbformat": 4,
 "nbformat_minor": 4
}
